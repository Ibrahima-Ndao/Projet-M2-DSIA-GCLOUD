{
 "cells": [
  {
   "cell_type": "code",
   "execution_count": 148,
   "metadata": {},
   "outputs": [
    {
     "name": "stdout",
     "output_type": "stream",
     "text": [
      "Defaulting to user installation because normal site-packages is not writeable\n",
      "Requirement already satisfied: google-cloud-storage in c:\\users\\user\\appdata\\roaming\\python\\python312\\site-packages (2.19.0)\n",
      "Requirement already satisfied: google-cloud-bigquery in c:\\users\\user\\appdata\\roaming\\python\\python312\\site-packages (3.27.0)\n",
      "Requirement already satisfied: google-auth<3.0dev,>=2.26.1 in c:\\users\\user\\appdata\\roaming\\python\\python312\\site-packages (from google-cloud-storage) (2.37.0)\n",
      "Requirement already satisfied: google-api-core<3.0.0dev,>=2.15.0 in c:\\users\\user\\appdata\\roaming\\python\\python312\\site-packages (from google-cloud-storage) (2.24.0)\n",
      "Requirement already satisfied: google-cloud-core<3.0dev,>=2.3.0 in c:\\users\\user\\appdata\\roaming\\python\\python312\\site-packages (from google-cloud-storage) (2.4.1)\n",
      "Requirement already satisfied: google-resumable-media>=2.7.2 in c:\\users\\user\\appdata\\roaming\\python\\python312\\site-packages (from google-cloud-storage) (2.7.2)\n",
      "Requirement already satisfied: requests<3.0.0dev,>=2.18.0 in c:\\users\\user\\appdata\\roaming\\python\\python312\\site-packages (from google-cloud-storage) (2.32.3)\n",
      "Requirement already satisfied: google-crc32c<2.0dev,>=1.0 in c:\\users\\user\\appdata\\roaming\\python\\python312\\site-packages (from google-cloud-storage) (1.6.0)\n",
      "Requirement already satisfied: packaging>=20.0.0 in c:\\users\\user\\appdata\\roaming\\python\\python312\\site-packages (from google-cloud-bigquery) (23.2)\n",
      "Requirement already satisfied: python-dateutil<3.0dev,>=2.7.3 in c:\\users\\user\\appdata\\roaming\\python\\python312\\site-packages (from google-cloud-bigquery) (2.8.2)\n",
      "Requirement already satisfied: googleapis-common-protos<2.0.dev0,>=1.56.2 in c:\\users\\user\\appdata\\roaming\\python\\python312\\site-packages (from google-api-core<3.0.0dev,>=2.15.0->google-cloud-storage) (1.66.0)\n",
      "Requirement already satisfied: protobuf!=3.20.0,!=3.20.1,!=4.21.0,!=4.21.1,!=4.21.2,!=4.21.3,!=4.21.4,!=4.21.5,<6.0.0.dev0,>=3.19.5 in c:\\users\\user\\appdata\\roaming\\python\\python312\\site-packages (from google-api-core<3.0.0dev,>=2.15.0->google-cloud-storage) (5.28.3)\n",
      "Requirement already satisfied: proto-plus<2.0.0dev,>=1.22.3 in c:\\users\\user\\appdata\\roaming\\python\\python312\\site-packages (from google-api-core<3.0.0dev,>=2.15.0->google-cloud-storage) (1.25.0)\n",
      "Requirement already satisfied: grpcio<2.0dev,>=1.33.2 in c:\\users\\user\\appdata\\roaming\\python\\python312\\site-packages (from google-api-core[grpc]<3.0.0dev,>=2.11.1->google-cloud-bigquery) (1.69.0)\n",
      "Requirement already satisfied: grpcio-status<2.0.dev0,>=1.33.2 in c:\\users\\user\\appdata\\roaming\\python\\python312\\site-packages (from google-api-core[grpc]<3.0.0dev,>=2.11.1->google-cloud-bigquery) (1.69.0)\n",
      "Requirement already satisfied: cachetools<6.0,>=2.0.0 in c:\\users\\user\\appdata\\roaming\\python\\python312\\site-packages (from google-auth<3.0dev,>=2.26.1->google-cloud-storage) (5.5.0)\n",
      "Requirement already satisfied: pyasn1-modules>=0.2.1 in c:\\users\\user\\appdata\\roaming\\python\\python312\\site-packages (from google-auth<3.0dev,>=2.26.1->google-cloud-storage) (0.4.1)\n",
      "Requirement already satisfied: rsa<5,>=3.1.4 in c:\\users\\user\\appdata\\roaming\\python\\python312\\site-packages (from google-auth<3.0dev,>=2.26.1->google-cloud-storage) (4.9)\n",
      "Requirement already satisfied: six>=1.5 in c:\\users\\user\\appdata\\roaming\\python\\python312\\site-packages (from python-dateutil<3.0dev,>=2.7.3->google-cloud-bigquery) (1.16.0)\n",
      "Requirement already satisfied: charset-normalizer<4,>=2 in c:\\users\\user\\appdata\\roaming\\python\\python312\\site-packages (from requests<3.0.0dev,>=2.18.0->google-cloud-storage) (3.3.2)\n",
      "Requirement already satisfied: idna<4,>=2.5 in c:\\users\\user\\appdata\\roaming\\python\\python312\\site-packages (from requests<3.0.0dev,>=2.18.0->google-cloud-storage) (3.7)\n",
      "Requirement already satisfied: urllib3<3,>=1.21.1 in c:\\users\\user\\appdata\\roaming\\python\\python312\\site-packages (from requests<3.0.0dev,>=2.18.0->google-cloud-storage) (2.2.2)\n",
      "Requirement already satisfied: certifi>=2017.4.17 in c:\\users\\user\\appdata\\roaming\\python\\python312\\site-packages (from requests<3.0.0dev,>=2.18.0->google-cloud-storage) (2024.7.4)\n",
      "Requirement already satisfied: pyasn1<0.7.0,>=0.4.6 in c:\\users\\user\\appdata\\roaming\\python\\python312\\site-packages (from pyasn1-modules>=0.2.1->google-auth<3.0dev,>=2.26.1->google-cloud-storage) (0.6.1)\n"
     ]
    }
   ],
   "source": [
    "!pip install google-cloud-storage google-cloud-bigquery\n"
   ]
  },
  {
   "cell_type": "code",
   "execution_count": 26,
   "metadata": {},
   "outputs": [],
   "source": [
    "from google.cloud import storage, bigquery\n",
    "import pandas as pd\n",
    "import os\n",
    "import tempfile"
   ]
  },
  {
   "cell_type": "markdown",
   "metadata": {},
   "source": [
    "---\n",
    "# Étape 1 : Configuration des ressources GCP"
   ]
  },
  {
   "cell_type": "code",
   "execution_count": 5,
   "metadata": {},
   "outputs": [],
   "source": [
    "# Configuration de base\n",
    "PROJECT_ID = \"isi-group-m2-dsia\"\n",
    "BUCKET_NAME = \"m2dsia-ndao-ibrahima-data\"\n",
    "DATASET_ID = f\"{PROJECT_ID}.dataset_ndao_ibrahima\"\n",
    "TABLE_ID = f\"{DATASET_ID}.auchan_sales\"\n",
    "storage_client = storage.Client()\n",
    "bq_client = bigquery.Client()\n"
   ]
  },
  {
   "cell_type": "code",
   "execution_count": 3,
   "metadata": {},
   "outputs": [],
   "source": [
    "client = storage.Client(project=PROJECT_ID)\n",
    "bucket = client.get_bucket(BUCKET_NAME)"
   ]
  },
  {
   "cell_type": "code",
   "execution_count": 4,
   "metadata": {},
   "outputs": [
    {
     "data": {
      "text/plain": [
       "<Bucket: m2dsia-ndao-ibrahima-data>"
      ]
     },
     "execution_count": 4,
     "metadata": {},
     "output_type": "execute_result"
    }
   ],
   "source": [
    "bucket"
   ]
  },
  {
   "cell_type": "code",
   "execution_count": 29,
   "metadata": {},
   "outputs": [],
   "source": [
    "# Fonction pour valider et nettoyer les données\n",
    "def validate_and_clean_data(df):\n",
    "    try:\n",
    "        df = df.dropna(subset=[\"date\", \"price\", \"category\", \"qty\", \"product\", \"revenue\"])\n",
    "        df[\"price\"] = df[\"price\"].astype(float)\n",
    "        df[\"qty\"] = df[\"qty\"].astype(int)\n",
    "        df[\"date\"] = pd.to_datetime(df[\"date\"], errors='coerce').dt.date\n",
    "        df = df.dropna()\n",
    "        return df, True\n",
    "    except Exception as e:\n",
    "        print(\"Erreur de validation:\", e)\n",
    "        return df, False\n"
   ]
  },
  {
   "cell_type": "code",
   "execution_count": 30,
   "metadata": {},
   "outputs": [],
   "source": [
    "# Fonction pour déplacer un fichier dans un autre dossier du bucket\n",
    "def move_blob(blob_name, destination_folder):\n",
    "    bucket = storage_client.bucket(BUCKET_NAME)\n",
    "    blob = bucket.blob(blob_name)\n",
    "    new_blob_name = f\"{destination_folder}/{os.path.basename(blob_name)}\"\n",
    "    bucket.copy_blob(blob, bucket, new_blob_name)\n",
    "    blob.delete()"
   ]
  },
  {
   "cell_type": "code",
   "execution_count": 34,
   "metadata": {},
   "outputs": [
    {
     "name": "stdout",
     "output_type": "stream",
     "text": [
      "Pipeline de traitement terminé avec succès !\n"
     ]
    }
   ],
   "source": [
    "# Traitement des fichiers\n",
    "bucket = storage_client.bucket(BUCKET_NAME)\n",
    "blobs = bucket.list_blobs(prefix=\"input/\")\n",
    "for blob in blobs:\n",
    "    if not blob.name.endswith(\".csv\"):\n",
    "        continue\n",
    "    \n",
    "    # Téléchargement du fichier CSV\n",
    "    local_filename = os.path.join(tempfile.gettempdir(), os.path.basename(blob.name))\n",
    "    blob.download_to_filename(local_filename)\n",
    "    df = pd.read_csv(local_filename)\n",
    "    \n",
    "    # Validation et nettoyage\n",
    "    df_cleaned, is_valid = validate_and_clean_data(df)\n",
    "    if is_valid:\n",
    "        df_cleaned.to_csv(local_filename, index=False)\n",
    "        move_blob(blob.name, \"clean\")\n",
    "        # Chargement dans BigQuery\n",
    "        job_config = bigquery.LoadJobConfig(\n",
    "            write_disposition=bigquery.WriteDisposition.WRITE_APPEND,\n",
    "            source_format=bigquery.SourceFormat.CSV,\n",
    "            autodetect=True,\n",
    "            skip_leading_rows=1\n",
    "        )\n",
    "        with open(local_filename, \"rb\") as source_file:\n",
    "            job = bq_client.load_table_from_file(source_file, TABLE_ID, job_config=job_config)\n",
    "        job.result()\n",
    "        move_blob(f\"clean/{os.path.basename(blob.name)}\", \"done\")\n",
    "    else:\n",
    "        move_blob(blob.name, \"error\")\n",
    "\n",
    "    os.remove(local_filename)\n",
    "\n",
    "print(\"Pipeline de traitement terminé avec succès !\")"
   ]
  }
 ],
 "metadata": {
  "kernelspec": {
   "display_name": "env",
   "language": "python",
   "name": "python3"
  },
  "language_info": {
   "codemirror_mode": {
    "name": "ipython",
    "version": 3
   },
   "file_extension": ".py",
   "mimetype": "text/x-python",
   "name": "python",
   "nbconvert_exporter": "python",
   "pygments_lexer": "ipython3",
   "version": "3.12.0"
  }
 },
 "nbformat": 4,
 "nbformat_minor": 2
}
